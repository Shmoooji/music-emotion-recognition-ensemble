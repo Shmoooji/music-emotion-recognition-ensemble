{
 "cells": [
  {
   "cell_type": "markdown",
   "metadata": {},
   "source": [
    "## **Spectrogram Extraction Notebook**\n",
    "This notebook demonstrates how to extract spectrograms from audio files using Librosa and NumPy.\n"
   ]
  },
  {
   "cell_type": "markdown",
   "metadata": {},
   "source": [
    "### **Import Libraries**"
   ]
  },
  {
   "cell_type": "code",
   "execution_count": 3,
   "metadata": {},
   "outputs": [],
   "source": [
    "import librosa\n",
    "import numpy as np\n",
    "import os"
   ]
  },
  {
   "cell_type": "markdown",
   "metadata": {},
   "source": [
    "### **Spectrogram Extraction Function**\n",
    "\n",
    "This function extracts the log mel spectrogram from the audio files"
   ]
  },
  {
   "cell_type": "code",
   "execution_count": 5,
   "metadata": {},
   "outputs": [],
   "source": [
    "def extract_spectrogram(audio_file, segment_duration=5):\n",
    "    y, sr = librosa.load(audio_file, sr=None)\n",
    "    total_segments = 9\n",
    "    spectrograms = []\n",
    "\n",
    "    for i in range(total_segments):\n",
    "        start = i * segment_duration * sr\n",
    "        end = min((i + 1) * segment_duration * sr, len(y))\n",
    "        y_segment = y[start:end]\n",
    "\n",
    "        if len(y_segment) >= segment_duration * sr:\n",
    "            mel_spec = librosa.feature.melspectrogram(y=y_segment, sr=sr)\n",
    "            log_mel_spec = librosa.power_to_db(mel_spec, ref=np.max)\n",
    "            spectrograms.append(log_mel_spec)\n",
    "\n",
    "    return spectrograms"
   ]
  },
  {
   "cell_type": "markdown",
   "metadata": {},
   "source": [
    "### **Main Processing**\n",
    "\n",
    "* Loops through all the audio files\n",
    "* Extract spectrograms for each 5-second segment of the audio\n",
    "* The list of spectrograms for that audio file is saved into a single .npy file"
   ]
  },
  {
   "cell_type": "code",
   "execution_count": 6,
   "metadata": {},
   "outputs": [],
   "source": [
    "def process_audio_files(audio_dir, output_dir, segment_duration=5):\n",
    "    os.makedirs(output_dir, exist_ok=True)\n",
    "\n",
    "    for filename in os.listdir(audio_dir):\n",
    "        if filename.endswith(\".mp3\"): \n",
    "            audio_file_path = os.path.join(audio_dir, filename)\n",
    "            spectrograms = extract_spectrogram(audio_file_path, segment_duration)\n",
    "            output_file = os.path.join(output_dir, f\"{os.path.splitext(filename)[0]}_spectrograms.npy\")\n",
    "            np.save(output_file, np.array(spectrograms))\n",
    "\n",
    "audio_dir = \"../data/audio\"\n",
    "output_dir = \"../data/spectrograms\"\n",
    "\n",
    "process_audio_files(audio_dir, output_dir)"
   ]
  }
 ],
 "metadata": {
  "kernelspec": {
   "display_name": "base",
   "language": "python",
   "name": "python3"
  },
  "language_info": {
   "codemirror_mode": {
    "name": "ipython",
    "version": 3
   },
   "file_extension": ".py",
   "mimetype": "text/x-python",
   "name": "python",
   "nbconvert_exporter": "python",
   "pygments_lexer": "ipython3",
   "version": "3.11.7"
  }
 },
 "nbformat": 4,
 "nbformat_minor": 2
}
